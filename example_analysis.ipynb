{
 "cells": [
  {
   "cell_type": "markdown",
   "metadata": {},
   "source": [
    "# Residual Stream Analysis\n",
    "\n",
    "This notebook explores how much of a transformer's residual stream contributes to token prediction versus persistent memory/latent reasoning."
   ]
  },
  {
   "cell_type": "code",
   "execution_count": 1,
   "metadata": {},
   "outputs": [
    {
     "name": "stderr",
     "output_type": "stream",
     "text": [
      "/Users/kyle/Documents/ws/latent-space-reasoning-interp/.venv/lib/python3.12/site-packages/tqdm/auto.py:21: TqdmWarning: IProgress not found. Please update jupyter and ipywidgets. See https://ipywidgets.readthedocs.io/en/stable/user_install.html\n",
      "  from .autonotebook import tqdm as notebook_tqdm\n"
     ]
    }
   ],
   "source": [
    "import torch\n",
    "import numpy as np\n",
    "import matplotlib.pyplot as plt\n",
    "from residual_analysis import ResidualStreamAnalyzer"
   ]
  },
  {
   "cell_type": "markdown",
   "metadata": {},
   "source": [
    "## Initialize the Analyzer\n",
    "\n",
    "First, let's create our analyzer with the model of choice."
   ]
  },
  {
   "cell_type": "code",
   "execution_count": 2,
   "metadata": {},
   "outputs": [
    {
     "name": "stdout",
     "output_type": "stream",
     "text": [
      "Using MPS (Metal Performance Shaders) for Apple Silicon\n",
      "Loaded pretrained model gpt2-small into HookedTransformer\n",
      "Moving model to device:  mps\n",
      "Loaded gpt2-small with 12 layers and 768 hidden dimensions\n"
     ]
    }
   ],
   "source": [
    "# You can use any model supported by TransformerLens\n",
    "# Smaller models load faster but might not exhibit as strong reasoning patterns\n",
    "model_name = \"gpt2-small\"  # Options: \"gpt2-small\", \"gpt2-medium\", \"gpt2-large\", \"gpt2-xl\", \"pythia-70m\", etc.\n",
    "\n",
    "analyzer = ResidualStreamAnalyzer(model_name)\n",
    "print(f\"Loaded {model_name} with {analyzer.model.cfg.n_layers} layers and {analyzer.d_model} hidden dimensions\")"
   ]
  },
  {
   "cell_type": "markdown",
   "metadata": {},
   "source": [
    "## Examining the Unembedding Matrix\n",
    "\n",
    "Let's look at the singular value decomposition of the unembedding matrix to understand the token prediction subspace."
   ]
  },
  {
   "cell_type": "code",
   "execution_count": 3,
   "metadata": {},
   "outputs": [
    {
     "ename": "",
     "evalue": "",
     "output_type": "error",
     "traceback": [
      "\u001b[1;31mThe Kernel crashed while executing code in the current cell or a previous cell. \n",
      "\u001b[1;31mPlease review the code in the cell(s) to identify a possible cause of the failure. \n",
      "\u001b[1;31mClick <a href='https://aka.ms/vscodeJupyterKernelCrash'>here</a> for more info. \n",
      "\u001b[1;31mView Jupyter <a href='command:jupyter.viewOutput'>log</a> for further details."
     ]
    }
   ],
   "source": [
    "# Get the token prediction subspace\n",
    "P, S, cumulative_var = analyzer.compute_token_subspace(variance_explained=0.95)\n",
    "\n",
    "# Package results for visualization\n",
    "results = {\n",
    "    \"singular_values\": S,\n",
    "    \"cumulative_variance\": cumulative_var,\n",
    "    \"projection_matrix\": P\n",
    "}\n",
    "\n",
    "print(\"here\")\n",
    "\n",
    "# Visualize the singular values\n",
    "analyzer.visualize_singular_values(results)"
   ]
  },
  {
   "cell_type": "markdown",
   "metadata": {},
   "source": [
    "## Experiment 1: Comparing Factual Recall vs. Reasoning\n",
    "\n",
    "In this experiment, we compare how much of the residual stream is used for token prediction in a factual recall task versus a reasoning task."
   ]
  },
  {
   "cell_type": "code",
   "execution_count": null,
   "metadata": {},
   "outputs": [],
   "source": [
    "# Define example prompts\n",
    "factual_prompt = \"The capital of France is\"  # Simple factual recall\n",
    "reasoning_prompt = \"If 5x + 3 = 18, then x equals\"  # Simple reasoning task\n",
    "\n",
    "print(f\"Factual prompt: '{factual_prompt}'\")\n",
    "print(f\"Reasoning prompt: '{reasoning_prompt}'\")"
   ]
  },
  {
   "cell_type": "code",
   "execution_count": null,
   "metadata": {},
   "outputs": [],
   "source": [
    "# Analyze the factual prompt\n",
    "factual_results = analyzer.run_with_hooks(factual_prompt)\n",
    "\n",
    "# Display predicted tokens\n",
    "print(\"Factual prompt:\", factual_prompt)\n",
    "print(\"Predicted next tokens:\", \" \".join(factual_results[\"token_strs\"][:3]))\n",
    "\n",
    "# Visualize projection percentages\n",
    "analyzer.visualize_projection_percentages(\n",
    "    factual_results, \n",
    "    title=\"Projection Percentages - Factual Recall\"\n",
    ")"
   ]
  },
  {
   "cell_type": "code",
   "execution_count": null,
   "metadata": {},
   "outputs": [],
   "source": [
    "# Analyze the reasoning prompt\n",
    "reasoning_results = analyzer.run_with_hooks(reasoning_prompt)\n",
    "\n",
    "# Display predicted tokens\n",
    "print(\"Reasoning prompt:\", reasoning_prompt)\n",
    "print(\"Predicted next tokens:\", \" \".join(reasoning_results[\"token_strs\"][:3]))\n",
    "\n",
    "# Visualize projection percentages\n",
    "analyzer.visualize_projection_percentages(\n",
    "    reasoning_results, \n",
    "    title=\"Projection Percentages - Reasoning Task\"\n",
    ")"
   ]
  },
  {
   "cell_type": "code",
   "execution_count": null,
   "metadata": {},
   "outputs": [],
   "source": [
    "# Compare final layer percentages\n",
    "final_layer = \"ln_final.hook_normalized\"\n",
    "\n",
    "factual_percentages = factual_results[\"projection_percentages\"][final_layer]\n",
    "reasoning_percentages = reasoning_results[\"projection_percentages\"][final_layer]\n",
    "\n",
    "print(\"\\nFinal Layer Projection Percentages:\")\n",
    "print(f\"Factual: {factual_percentages[0].item():.2f}%\")\n",
    "print(f\"Reasoning: {reasoning_percentages[0].item():.2f}%\")\n",
    "\n",
    "# Calculate difference\n",
    "diff = factual_percentages[0].item() - reasoning_percentages[0].item()\n",
    "print(f\"Difference: {diff:.2f}% {'more' if diff > 0 else 'less'} token-focused in factual task\")"
   ]
  },
  {
   "cell_type": "markdown",
   "metadata": {},
   "source": [
    "## Experiment 2: Analyzing a Multi-step Reasoning Chain\n",
    "\n",
    "In this experiment, we examine how the projection percentages evolve throughout a structured reasoning process."
   ]
  },
  {
   "cell_type": "code",
   "execution_count": null,
   "metadata": {},
   "outputs": [],
   "source": [
    "# Define a multi-step reasoning prompt\n",
    "reasoning_chain = \"\"\"\n",
    "Problem: If a shirt costs $15 and is on sale for 20% off, what is the sale price?\n",
    "\n",
    "Step 1: Calculate the discount amount.\n",
    "Discount = Original price × Discount percentage\n",
    "Discount = $15 × 0.20\n",
    "Discount = $3\n",
    "\n",
    "Step 2: Subtract the discount from the original price.\n",
    "Sale price = Original price - Discount\n",
    "Sale price = $15 - $3\n",
    "Sale price = $12\n",
    "\n",
    "Therefore, the sale price of the shirt is $12.\n",
    "\"\"\"\n",
    "\n",
    "print(reasoning_chain)"
   ]
  },
  {
   "cell_type": "code",
   "execution_count": null,
   "metadata": {},
   "outputs": [],
   "source": [
    "# Run the analysis\n",
    "chain_results = analyzer.run_with_hooks(reasoning_chain)\n",
    "\n",
    "# Visualize the projection percentages across the reasoning chain\n",
    "analyzer.visualize_projection_percentages(\n",
    "    chain_results,\n",
    "    title=\"Projection Percentages Throughout Reasoning Chain\"\n",
    ")"
   ]
  },
  {
   "cell_type": "code",
   "execution_count": null,
   "metadata": {},
   "outputs": [],
   "source": [
    "# Find positions where specific reasoning steps start\n",
    "step1_pos = reasoning_chain.find(\"Step 1:\") \n",
    "step2_pos = reasoning_chain.find(\"Step 2:\")\n",
    "conclusion_pos = reasoning_chain.find(\"Therefore\")\n",
    "\n",
    "# Get token representations for reference\n",
    "tokens = chain_results[\"tokens\"][0]\n",
    "token_strs = [analyzer.model.tokenizer.decode([t.item()]) for t in tokens]\n",
    "\n",
    "# Analyze the final layer\n",
    "final_layer = \"ln_final.hook_normalized\"\n",
    "percentages = chain_results[\"projection_percentages\"][final_layer][0].cpu().numpy()\n",
    "\n",
    "# Plot percentages over the sequence\n",
    "plt.figure(figsize=(15, 7))\n",
    "plt.plot(percentages, linewidth=2)\n",
    "plt.title(\"Token Space Projection % Throughout Reasoning Chain\", fontsize=14)\n",
    "plt.xlabel(\"Token Position\", fontsize=12)\n",
    "plt.ylabel(\"% in Token Space\", fontsize=12)\n",
    "plt.grid(True)\n",
    "\n",
    "# Calculate approximate token positions for each step\n",
    "# This is an approximation as character positions don't directly map to token positions\n",
    "char_to_token_ratio = len(tokens) / len(reasoning_chain)\n",
    "\n",
    "# Highlight transition points\n",
    "for name, pos in [(\"Problem\", 0), \n",
    "                 (\"Step 1\", step1_pos), \n",
    "                 (\"Step 2\", step2_pos), \n",
    "                 (\"Conclusion\", conclusion_pos)]:\n",
    "    token_pos = int(pos * char_to_token_ratio)\n",
    "    plt.axvline(x=token_pos, color='r', linestyle='--', alpha=0.7)\n",
    "    plt.text(token_pos + 1, np.max(percentages) * 0.9, name, rotation=0, fontsize=10)\n",
    "\n",
    "plt.tight_layout()\n",
    "plt.show()"
   ]
  },
  {
   "cell_type": "markdown",
   "metadata": {},
   "source": [
    "## Experiment 3: Custom Analysis\n",
    "\n",
    "Try your own prompts and analyses below."
   ]
  },
  {
   "cell_type": "code",
   "execution_count": null,
   "metadata": {},
   "outputs": [],
   "source": [
    "# Define your custom prompt\n",
    "custom_prompt = \"Write your prompt here\"\n",
    "\n",
    "# Run analysis\n",
    "custom_results = analyzer.run_with_hooks(custom_prompt)\n",
    "\n",
    "# Visualize results\n",
    "analyzer.visualize_projection_percentages(custom_results, title=\"Custom Prompt Analysis\")"
   ]
  },
  {
   "cell_type": "markdown",
   "metadata": {},
   "source": [
    "## Advanced Analysis: Layer-by-Layer Comparisons\n",
    "\n",
    "Let's examine how different layers contribute to token prediction vs. latent reasoning."
   ]
  },
  {
   "cell_type": "code",
   "execution_count": null,
   "metadata": {},
   "outputs": [],
   "source": [
    "# Compare multiple prompts across layers\n",
    "prompts = {\n",
    "    \"Factual\": \"The capital of France is\",\n",
    "    \"Simple Math\": \"2 + 2 equals\",\n",
    "    \"Complex Math\": \"If 5x + 3 = 18, then x equals\",\n",
    "    \"Logic\": \"All humans are mortal. Socrates is human. Therefore, Socrates is\"\n",
    "}\n",
    "\n",
    "# Run analysis for each prompt\n",
    "results_by_prompt = {}\n",
    "for name, prompt in prompts.items():\n",
    "    results_by_prompt[name] = analyzer.run_with_hooks(prompt)\n",
    "\n",
    "# Compare final layer percentages\n",
    "final_layer = \"ln_final.hook_normalized\"\n",
    "\n",
    "# Create comparison plot\n",
    "plt.figure(figsize=(10, 6))\n",
    "\n",
    "for name, results in results_by_prompt.items():\n",
    "    percentages = results[\"projection_percentages\"][final_layer][0].item()\n",
    "    plt.bar(name, percentages)\n",
    "\n",
    "plt.title(\"Token Space Projection % by Task Type\")\n",
    "plt.ylabel(\"% in Token Space\")\n",
    "plt.ylim(0, 100)\n",
    "plt.grid(axis='y')\n",
    "\n",
    "# Add value labels\n",
    "for i, (name, results) in enumerate(results_by_prompt.items()):\n",
    "    percentages = results[\"projection_percentages\"][final_layer][0].item()\n",
    "    plt.text(i, percentages + 1, f\"{percentages:.1f}%\", ha='center')\n",
    "\n",
    "plt.tight_layout()\n",
    "plt.show()"
   ]
  }
 ],
 "metadata": {
  "kernelspec": {
   "display_name": "Python 3",
   "language": "python",
   "name": "python3"
  },
  "language_info": {
   "codemirror_mode": {
    "name": "ipython",
    "version": 3
   },
   "file_extension": ".py",
   "mimetype": "text/x-python",
   "name": "python",
   "nbconvert_exporter": "python",
   "pygments_lexer": "ipython3",
   "version": "3.12.7"
  }
 },
 "nbformat": 4,
 "nbformat_minor": 4
}
